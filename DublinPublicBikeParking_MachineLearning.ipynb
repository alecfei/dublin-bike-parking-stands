{
 "cells": [
  {
   "cell_type": "markdown",
   "id": "84405288",
   "metadata": {},
   "source": [
    "## Public Bike Parking in Dublin City"
   ]
  },
  {
   "cell_type": "markdown",
   "id": "dbadcbc2",
   "metadata": {},
   "source": [
    "### *Import mandatory libraries*"
   ]
  },
  {
   "cell_type": "code",
   "execution_count": 1,
   "id": "928181a5",
   "metadata": {},
   "outputs": [],
   "source": [
    "# libraries for manipulating data\n",
    "import pandas as pd\n",
    "import numpy as np\n",
    "\n",
    "# libraries for visualising data\n",
    "import matplotlib.pyplot as plt\n",
    "import seaborn as sns\n",
    "\n",
    "# Suppress warning messages\n",
    "import warnings\n",
    "warnings.filterwarnings(\"ignore\")"
   ]
  },
  {
   "cell_type": "markdown",
   "id": "e13833fe",
   "metadata": {},
   "source": [
    "### 3. Machine learning"
   ]
  },
  {
   "cell_type": "code",
   "execution_count": 109,
   "id": "b1c6007a",
   "metadata": {},
   "outputs": [
    {
     "data": {
      "text/html": [
       "<div>\n",
       "<style scoped>\n",
       "    .dataframe tbody tr th:only-of-type {\n",
       "        vertical-align: middle;\n",
       "    }\n",
       "\n",
       "    .dataframe tbody tr th {\n",
       "        vertical-align: top;\n",
       "    }\n",
       "\n",
       "    .dataframe thead th {\n",
       "        text-align: right;\n",
       "    }\n",
       "</style>\n",
       "<table border=\"1\" class=\"dataframe\">\n",
       "  <thead>\n",
       "    <tr style=\"text-align: right;\">\n",
       "      <th></th>\n",
       "      <th>stand_type</th>\n",
       "      <th>easting</th>\n",
       "      <th>northing</th>\n",
       "      <th>long</th>\n",
       "      <th>lat</th>\n",
       "      <th>stand_numbers</th>\n",
       "    </tr>\n",
       "  </thead>\n",
       "  <tbody>\n",
       "    <tr>\n",
       "      <th>0</th>\n",
       "      <td>Sheffield Stand</td>\n",
       "      <td>318106.414</td>\n",
       "      <td>234502.185</td>\n",
       "      <td>-6.227256</td>\n",
       "      <td>53.347793</td>\n",
       "      <td>4</td>\n",
       "    </tr>\n",
       "    <tr>\n",
       "      <th>1</th>\n",
       "      <td>Sheffield Stand</td>\n",
       "      <td>315620.753</td>\n",
       "      <td>232932.916</td>\n",
       "      <td>-6.265134</td>\n",
       "      <td>53.334248</td>\n",
       "      <td>1</td>\n",
       "    </tr>\n",
       "    <tr>\n",
       "      <th>2</th>\n",
       "      <td>Sheffield Stand</td>\n",
       "      <td>316615.570</td>\n",
       "      <td>234148.652</td>\n",
       "      <td>-6.249761</td>\n",
       "      <td>53.344949</td>\n",
       "      <td>2</td>\n",
       "    </tr>\n",
       "    <tr>\n",
       "      <th>3</th>\n",
       "      <td>Sheffield Stand</td>\n",
       "      <td>316520.200</td>\n",
       "      <td>234543.281</td>\n",
       "      <td>-6.251047</td>\n",
       "      <td>53.348514</td>\n",
       "      <td>1</td>\n",
       "    </tr>\n",
       "    <tr>\n",
       "      <th>4</th>\n",
       "      <td>Sheffield Stand</td>\n",
       "      <td>317119.980</td>\n",
       "      <td>233940.217</td>\n",
       "      <td>-6.242268</td>\n",
       "      <td>53.342965</td>\n",
       "      <td>3</td>\n",
       "    </tr>\n",
       "  </tbody>\n",
       "</table>\n",
       "</div>"
      ],
      "text/plain": [
       "        stand_type     easting    northing      long        lat  stand_numbers\n",
       "0  Sheffield Stand  318106.414  234502.185 -6.227256  53.347793              4\n",
       "1  Sheffield Stand  315620.753  232932.916 -6.265134  53.334248              1\n",
       "2  Sheffield Stand  316615.570  234148.652 -6.249761  53.344949              2\n",
       "3  Sheffield Stand  316520.200  234543.281 -6.251047  53.348514              1\n",
       "4  Sheffield Stand  317119.980  233940.217 -6.242268  53.342965              3"
      ]
     },
     "execution_count": 109,
     "metadata": {},
     "output_type": "execute_result"
    }
   ],
   "source": [
    "# Read the final data\n",
    "bp_final = pd.read_csv(\"dublin_bike_parking_stands_final.csv\")\n",
    "bp_final.head()"
   ]
  },
  {
   "cell_type": "code",
   "execution_count": 110,
   "id": "dfa2dcaf",
   "metadata": {},
   "outputs": [
    {
     "data": {
      "text/html": [
       "<div>\n",
       "<style scoped>\n",
       "    .dataframe tbody tr th:only-of-type {\n",
       "        vertical-align: middle;\n",
       "    }\n",
       "\n",
       "    .dataframe tbody tr th {\n",
       "        vertical-align: top;\n",
       "    }\n",
       "\n",
       "    .dataframe thead th {\n",
       "        text-align: right;\n",
       "    }\n",
       "</style>\n",
       "<table border=\"1\" class=\"dataframe\">\n",
       "  <thead>\n",
       "    <tr style=\"text-align: right;\">\n",
       "      <th></th>\n",
       "      <th>stand_type</th>\n",
       "      <th>easting</th>\n",
       "      <th>northing</th>\n",
       "      <th>long</th>\n",
       "      <th>lat</th>\n",
       "      <th>stand_numbers</th>\n",
       "      <th>area</th>\n",
       "    </tr>\n",
       "  </thead>\n",
       "  <tbody>\n",
       "    <tr>\n",
       "      <th>0</th>\n",
       "      <td>Sheffield Stand</td>\n",
       "      <td>318106.414</td>\n",
       "      <td>234502.185</td>\n",
       "      <td>-6.227256</td>\n",
       "      <td>53.347793</td>\n",
       "      <td>4</td>\n",
       "      <td>CENTRAL</td>\n",
       "    </tr>\n",
       "    <tr>\n",
       "      <th>1</th>\n",
       "      <td>Sheffield Stand</td>\n",
       "      <td>315620.753</td>\n",
       "      <td>232932.916</td>\n",
       "      <td>-6.265134</td>\n",
       "      <td>53.334248</td>\n",
       "      <td>1</td>\n",
       "      <td>SOUTH EAST</td>\n",
       "    </tr>\n",
       "    <tr>\n",
       "      <th>2</th>\n",
       "      <td>Sheffield Stand</td>\n",
       "      <td>316615.570</td>\n",
       "      <td>234148.652</td>\n",
       "      <td>-6.249761</td>\n",
       "      <td>53.344949</td>\n",
       "      <td>2</td>\n",
       "      <td>SOUTH EAST</td>\n",
       "    </tr>\n",
       "    <tr>\n",
       "      <th>3</th>\n",
       "      <td>Sheffield Stand</td>\n",
       "      <td>316520.200</td>\n",
       "      <td>234543.281</td>\n",
       "      <td>-6.251047</td>\n",
       "      <td>53.348514</td>\n",
       "      <td>1</td>\n",
       "      <td>CENTRAL</td>\n",
       "    </tr>\n",
       "    <tr>\n",
       "      <th>4</th>\n",
       "      <td>Sheffield Stand</td>\n",
       "      <td>317119.980</td>\n",
       "      <td>233940.217</td>\n",
       "      <td>-6.242268</td>\n",
       "      <td>53.342965</td>\n",
       "      <td>3</td>\n",
       "      <td>SOUTH EAST</td>\n",
       "    </tr>\n",
       "    <tr>\n",
       "      <th>...</th>\n",
       "      <td>...</td>\n",
       "      <td>...</td>\n",
       "      <td>...</td>\n",
       "      <td>...</td>\n",
       "      <td>...</td>\n",
       "      <td>...</td>\n",
       "      <td>...</td>\n",
       "    </tr>\n",
       "    <tr>\n",
       "      <th>931</th>\n",
       "      <td>Sheffield Stand</td>\n",
       "      <td>316302.000</td>\n",
       "      <td>233262.000</td>\n",
       "      <td>-6.254792</td>\n",
       "      <td>53.337055</td>\n",
       "      <td>4</td>\n",
       "      <td>SOUTH EAST</td>\n",
       "    </tr>\n",
       "    <tr>\n",
       "      <th>932</th>\n",
       "      <td>Sheffield Stand</td>\n",
       "      <td>315695.000</td>\n",
       "      <td>238310.000</td>\n",
       "      <td>-6.262055</td>\n",
       "      <td>53.382523</td>\n",
       "      <td>10</td>\n",
       "      <td>NORTH CENTRAL</td>\n",
       "    </tr>\n",
       "    <tr>\n",
       "      <th>933</th>\n",
       "      <td>Sheffield Stand</td>\n",
       "      <td>314313.000</td>\n",
       "      <td>234658.000</td>\n",
       "      <td>-6.284133</td>\n",
       "      <td>53.350025</td>\n",
       "      <td>4</td>\n",
       "      <td>CENTRAL</td>\n",
       "    </tr>\n",
       "    <tr>\n",
       "      <th>934</th>\n",
       "      <td>Sheffield Stand</td>\n",
       "      <td>309975.000</td>\n",
       "      <td>233713.000</td>\n",
       "      <td>-6.349573</td>\n",
       "      <td>53.342457</td>\n",
       "      <td>5</td>\n",
       "      <td>SOUTH CENTRAL</td>\n",
       "    </tr>\n",
       "    <tr>\n",
       "      <th>935</th>\n",
       "      <td>Sheffield Stand</td>\n",
       "      <td>313622.000</td>\n",
       "      <td>233003.000</td>\n",
       "      <td>-6.295098</td>\n",
       "      <td>53.335310</td>\n",
       "      <td>5</td>\n",
       "      <td>SOUTH CENTRAL</td>\n",
       "    </tr>\n",
       "  </tbody>\n",
       "</table>\n",
       "<p>936 rows × 7 columns</p>\n",
       "</div>"
      ],
      "text/plain": [
       "          stand_type     easting    northing      long        lat  \\\n",
       "0    Sheffield Stand  318106.414  234502.185 -6.227256  53.347793   \n",
       "1    Sheffield Stand  315620.753  232932.916 -6.265134  53.334248   \n",
       "2    Sheffield Stand  316615.570  234148.652 -6.249761  53.344949   \n",
       "3    Sheffield Stand  316520.200  234543.281 -6.251047  53.348514   \n",
       "4    Sheffield Stand  317119.980  233940.217 -6.242268  53.342965   \n",
       "..               ...         ...         ...       ...        ...   \n",
       "931  Sheffield Stand  316302.000  233262.000 -6.254792  53.337055   \n",
       "932  Sheffield Stand  315695.000  238310.000 -6.262055  53.382523   \n",
       "933  Sheffield Stand  314313.000  234658.000 -6.284133  53.350025   \n",
       "934  Sheffield Stand  309975.000  233713.000 -6.349573  53.342457   \n",
       "935  Sheffield Stand  313622.000  233003.000 -6.295098  53.335310   \n",
       "\n",
       "     stand_numbers           area  \n",
       "0                4        CENTRAL  \n",
       "1                1     SOUTH EAST  \n",
       "2                2     SOUTH EAST  \n",
       "3                1        CENTRAL  \n",
       "4                3     SOUTH EAST  \n",
       "..             ...            ...  \n",
       "931              4     SOUTH EAST  \n",
       "932             10  NORTH CENTRAL  \n",
       "933              4        CENTRAL  \n",
       "934              5  SOUTH CENTRAL  \n",
       "935              5  SOUTH CENTRAL  \n",
       "\n",
       "[936 rows x 7 columns]"
      ]
     },
     "execution_count": 110,
     "metadata": {},
     "output_type": "execute_result"
    }
   ],
   "source": [
    "# Add area column to it as our dependent variable\n",
    "bp_final[\"area\"] = area_geometry[\"area\"]\n",
    "bp_final"
   ]
  },
  {
   "cell_type": "code",
   "execution_count": 111,
   "id": "34772226",
   "metadata": {},
   "outputs": [
    {
     "data": {
      "text/plain": [
       "stand_type       0\n",
       "easting          0\n",
       "northing         0\n",
       "long             0\n",
       "lat              0\n",
       "stand_numbers    0\n",
       "area             3\n",
       "dtype: int64"
      ]
     },
     "execution_count": 111,
     "metadata": {},
     "output_type": "execute_result"
    }
   ],
   "source": [
    "# Check missing values\n",
    "bp_final.isnull().sum()"
   ]
  },
  {
   "cell_type": "markdown",
   "id": "79e0cc89",
   "metadata": {},
   "source": [
    "- **Missing values appeared again since these three stands are not in the polygons of the 5 areas.**"
   ]
  },
  {
   "cell_type": "code",
   "execution_count": 112,
   "id": "8ee6e4d8",
   "metadata": {},
   "outputs": [],
   "source": [
    "# Drop missing values\n",
    "bp_final.dropna(inplace = True)"
   ]
  },
  {
   "cell_type": "code",
   "execution_count": 113,
   "id": "31eea64b",
   "metadata": {},
   "outputs": [
    {
     "data": {
      "text/plain": [
       "stand_type       0\n",
       "easting          0\n",
       "northing         0\n",
       "long             0\n",
       "lat              0\n",
       "stand_numbers    0\n",
       "area             0\n",
       "dtype: int64"
      ]
     },
     "execution_count": 113,
     "metadata": {},
     "output_type": "execute_result"
    }
   ],
   "source": [
    "# Check again\n",
    "bp_final.isnull().sum()"
   ]
  },
  {
   "cell_type": "markdown",
   "id": "ebeb4bd6",
   "metadata": {},
   "source": [
    "- **Install category_encoders to encode categorial data.**"
   ]
  },
  {
   "cell_type": "code",
   "execution_count": 114,
   "id": "ec68be0f",
   "metadata": {},
   "outputs": [
    {
     "name": "stdout",
     "output_type": "stream",
     "text": [
      "Requirement already satisfied: category_encoders in c:\\users\\aaa\\anaconda3\\lib\\site-packages (2.5.1.post0)Note: you may need to restart the kernel to use updated packages.\n",
      "Requirement already satisfied: numpy>=1.14.0 in c:\\users\\aaa\\anaconda3\\lib\\site-packages (from category_encoders) (1.21.5)\n",
      "Requirement already satisfied: pandas>=1.0.5 in c:\\users\\aaa\\anaconda3\\lib\\site-packages (from category_encoders) (1.4.2)\n",
      "Requirement already satisfied: scipy>=1.0.0 in c:\\users\\aaa\\anaconda3\\lib\\site-packages (from category_encoders) (1.9.3)\n",
      "Requirement already satisfied: statsmodels>=0.9.0 in c:\\users\\aaa\\anaconda3\\lib\\site-packages (from category_encoders) (0.13.2)\n",
      "Requirement already satisfied: patsy>=0.5.1 in c:\\users\\aaa\\anaconda3\\lib\\site-packages (from category_encoders) (0.5.2)\n",
      "\n",
      "Requirement already satisfied: scikit-learn>=0.20.0 in c:\\users\\aaa\\anaconda3\\lib\\site-packages (from category_encoders) (1.0.2)\n",
      "Requirement already satisfied: pytz>=2020.1 in c:\\users\\aaa\\anaconda3\\lib\\site-packages (from pandas>=1.0.5->category_encoders) (2021.3)\n",
      "Requirement already satisfied: python-dateutil>=2.8.1 in c:\\users\\aaa\\anaconda3\\lib\\site-packages (from pandas>=1.0.5->category_encoders) (2.8.2)\n",
      "Requirement already satisfied: six in c:\\users\\aaa\\anaconda3\\lib\\site-packages (from patsy>=0.5.1->category_encoders) (1.16.0)\n",
      "Requirement already satisfied: joblib>=0.11 in c:\\users\\aaa\\anaconda3\\lib\\site-packages (from scikit-learn>=0.20.0->category_encoders) (1.1.0)\n",
      "Requirement already satisfied: threadpoolctl>=2.0.0 in c:\\users\\aaa\\anaconda3\\lib\\site-packages (from scikit-learn>=0.20.0->category_encoders) (2.2.0)\n",
      "Requirement already satisfied: packaging>=21.3 in c:\\users\\aaa\\anaconda3\\lib\\site-packages (from statsmodels>=0.9.0->category_encoders) (21.3)\n",
      "Requirement already satisfied: pyparsing!=3.0.5,>=2.0.2 in c:\\users\\aaa\\anaconda3\\lib\\site-packages (from packaging>=21.3->statsmodels>=0.9.0->category_encoders) (3.0.4)\n"
     ]
    }
   ],
   "source": [
    "pip install category_encoders"
   ]
  },
  {
   "cell_type": "code",
   "execution_count": 115,
   "id": "821c89ad",
   "metadata": {},
   "outputs": [
    {
     "data": {
      "text/html": [
       "<div>\n",
       "<style scoped>\n",
       "    .dataframe tbody tr th:only-of-type {\n",
       "        vertical-align: middle;\n",
       "    }\n",
       "\n",
       "    .dataframe tbody tr th {\n",
       "        vertical-align: top;\n",
       "    }\n",
       "\n",
       "    .dataframe thead th {\n",
       "        text-align: right;\n",
       "    }\n",
       "</style>\n",
       "<table border=\"1\" class=\"dataframe\">\n",
       "  <thead>\n",
       "    <tr style=\"text-align: right;\">\n",
       "      <th></th>\n",
       "      <th>stand_type</th>\n",
       "      <th>long</th>\n",
       "      <th>lat</th>\n",
       "      <th>stand_numbers</th>\n",
       "      <th>area</th>\n",
       "    </tr>\n",
       "  </thead>\n",
       "  <tbody>\n",
       "    <tr>\n",
       "      <th>0</th>\n",
       "      <td>1</td>\n",
       "      <td>-6.227256</td>\n",
       "      <td>53.347793</td>\n",
       "      <td>4</td>\n",
       "      <td>CENTRAL</td>\n",
       "    </tr>\n",
       "    <tr>\n",
       "      <th>1</th>\n",
       "      <td>1</td>\n",
       "      <td>-6.265134</td>\n",
       "      <td>53.334248</td>\n",
       "      <td>1</td>\n",
       "      <td>SOUTH EAST</td>\n",
       "    </tr>\n",
       "    <tr>\n",
       "      <th>2</th>\n",
       "      <td>1</td>\n",
       "      <td>-6.249761</td>\n",
       "      <td>53.344949</td>\n",
       "      <td>2</td>\n",
       "      <td>SOUTH EAST</td>\n",
       "    </tr>\n",
       "    <tr>\n",
       "      <th>3</th>\n",
       "      <td>1</td>\n",
       "      <td>-6.251047</td>\n",
       "      <td>53.348514</td>\n",
       "      <td>1</td>\n",
       "      <td>CENTRAL</td>\n",
       "    </tr>\n",
       "    <tr>\n",
       "      <th>4</th>\n",
       "      <td>1</td>\n",
       "      <td>-6.242268</td>\n",
       "      <td>53.342965</td>\n",
       "      <td>3</td>\n",
       "      <td>SOUTH EAST</td>\n",
       "    </tr>\n",
       "    <tr>\n",
       "      <th>5</th>\n",
       "      <td>1</td>\n",
       "      <td>-6.262076</td>\n",
       "      <td>53.348178</td>\n",
       "      <td>2</td>\n",
       "      <td>CENTRAL</td>\n",
       "    </tr>\n",
       "    <tr>\n",
       "      <th>6</th>\n",
       "      <td>1</td>\n",
       "      <td>-6.251759</td>\n",
       "      <td>53.351830</td>\n",
       "      <td>3</td>\n",
       "      <td>CENTRAL</td>\n",
       "    </tr>\n",
       "    <tr>\n",
       "      <th>7</th>\n",
       "      <td>1</td>\n",
       "      <td>-6.268155</td>\n",
       "      <td>53.356866</td>\n",
       "      <td>3</td>\n",
       "      <td>CENTRAL</td>\n",
       "    </tr>\n",
       "  </tbody>\n",
       "</table>\n",
       "</div>"
      ],
      "text/plain": [
       "   stand_type      long        lat  stand_numbers        area\n",
       "0           1 -6.227256  53.347793              4     CENTRAL\n",
       "1           1 -6.265134  53.334248              1  SOUTH EAST\n",
       "2           1 -6.249761  53.344949              2  SOUTH EAST\n",
       "3           1 -6.251047  53.348514              1     CENTRAL\n",
       "4           1 -6.242268  53.342965              3  SOUTH EAST\n",
       "5           1 -6.262076  53.348178              2     CENTRAL\n",
       "6           1 -6.251759  53.351830              3     CENTRAL\n",
       "7           1 -6.268155  53.356866              3     CENTRAL"
      ]
     },
     "execution_count": 115,
     "metadata": {},
     "output_type": "execute_result"
    }
   ],
   "source": [
    "# Import library, encode and rearrange\n",
    "import category_encoders as ce\n",
    "encoder = ce.OrdinalEncoder(cols = [\"stand_type\"], return_df = True,\n",
    "                  mapping=[{\"col\":\"stand_type\", \"mapping\":\n",
    "                            {\"Sheffield Stand\": 1, \"Railing\": 2, \"Stainless Steel Curved\": 3, \"Hoops\": 4,\n",
    "                            \"Temporary Racks\": 5, \"Cargo bike stands\": 6, \"Sheffield Stand +Cargo Stand\": 7}}])\n",
    "\n",
    "bp_copy = encoder.fit_transform(bp_final)\n",
    "ml = bp_copy.copy()\n",
    "ml = ml.drop(columns = {\"easting\", \"northing\"})\n",
    "ml.head(8) # For machine learning"
   ]
  },
  {
   "cell_type": "code",
   "execution_count": 116,
   "id": "f469f2e1",
   "metadata": {},
   "outputs": [],
   "source": [
    "# Extract the values for machine learning, X is independent variables, y is dependent variable\n",
    "Xnames = [\"stand_type\", \"long\", \"lat\", \"stand_numbers\"]\n",
    "X = ml[Xnames].values\n",
    "y = ml[\"area\"].values"
   ]
  },
  {
   "cell_type": "markdown",
   "id": "81596c26",
   "metadata": {},
   "source": [
    "#### 3.1 KNN model"
   ]
  },
  {
   "cell_type": "markdown",
   "id": "cd5df4c7",
   "metadata": {},
   "source": [
    "- ***Without scaling***"
   ]
  },
  {
   "cell_type": "code",
   "execution_count": 117,
   "id": "2fbf5ed4",
   "metadata": {},
   "outputs": [],
   "source": [
    "# Split the data into two parts, one for training, one for testing\n",
    "from sklearn.model_selection import train_test_split\n",
    "X_train, X_test, y_train, y_test = train_test_split(X, y, test_size = 0.25, random_state = 45)"
   ]
  },
  {
   "cell_type": "code",
   "execution_count": 118,
   "id": "51deb0a9",
   "metadata": {},
   "outputs": [
    {
     "data": {
      "text/plain": [
       "((699, 4), (234, 4), (699,), (234,))"
      ]
     },
     "execution_count": 118,
     "metadata": {},
     "output_type": "execute_result"
    }
   ],
   "source": [
    "# Check the shape of splitted data\n",
    "X_train.shape, X_test.shape, y_train.shape, y_test.shape"
   ]
  },
  {
   "cell_type": "code",
   "execution_count": 119,
   "id": "3f7fb32b",
   "metadata": {},
   "outputs": [
    {
     "name": "stdout",
     "output_type": "stream",
     "text": [
      "[ 1  2  3  4  5  6  7  8  9 10 11 12 13 14 15 16 17 18 19] [0. 0. 0. 0. 0. 0. 0. 0. 0. 0. 0. 0. 0. 0. 0. 0. 0. 0. 0.] [0. 0. 0. 0. 0. 0. 0. 0. 0. 0. 0. 0. 0. 0. 0. 0. 0. 0. 0.]\n"
     ]
    }
   ],
   "source": [
    "# Import model\n",
    "from sklearn.neighbors import KNeighborsClassifier\n",
    "\n",
    "# Create a range of 20 neighbors for testing and find the best k number\n",
    "neighbors = np.arange(1, 20)                 \n",
    "train_accuracy = np.zeros(len(neighbors)) \n",
    "test_accuracy = np.zeros(len(neighbors))\n",
    "print(neighbors, train_accuracy, test_accuracy)"
   ]
  },
  {
   "cell_type": "code",
   "execution_count": 120,
   "id": "fc68b3b6",
   "metadata": {},
   "outputs": [
    {
     "name": "stdout",
     "output_type": "stream",
     "text": [
      "[ 1  2  3  4  5  6  7  8  9 10 11 12 13 14 15 16 17 18 19] [1.         0.92131617 0.91559371 0.90414878 0.88268956 0.86266094\n",
      " 0.86981402 0.84549356 0.84692418 0.8397711  0.82546495 0.83118741\n",
      " 0.81974249 0.8211731  0.79828326 0.80400572 0.79828326 0.80257511\n",
      " 0.78111588] [0.84188034 0.83760684 0.77777778 0.78205128 0.74358974 0.75641026\n",
      " 0.76068376 0.75213675 0.75641026 0.74358974 0.74358974 0.75213675\n",
      " 0.75213675 0.74786325 0.74358974 0.75213675 0.75641026 0.73504274\n",
      " 0.75641026]\n"
     ]
    }
   ],
   "source": [
    "# Use iteration function to show the accuracies of each k number in trained and tested sample\n",
    "for i,k in enumerate(neighbors):  \n",
    "    knn = KNeighborsClassifier(n_neighbors = k)\n",
    "    knn.fit(X_train, y_train)\n",
    "    train_accuracy[i] = knn.score(X_train, y_train)\n",
    "    test_accuracy[i] = knn.score(X_test, y_test)\n",
    "print(neighbors, train_accuracy, test_accuracy)"
   ]
  },
  {
   "cell_type": "code",
   "execution_count": 121,
   "id": "ad27a1d3",
   "metadata": {},
   "outputs": [
    {
     "data": {
      "image/png": "[encoded data removed]",
      "text/plain": [
       "<Figure size 720x576 with 1 Axes>"
      ]
     },
     "metadata": {
      "needs_background": "light"
     },
     "output_type": "display_data"
    }
   ],
   "source": [
    "# Plot the accuracies\n",
    "plt.figure(figsize = (10, 8))\n",
    "plt.title(\"KNN accuracy for K Numbers\", fontsize = 20)\n",
    "plt.plot(neighbors, test_accuracy, label = \"Testing Accuracy\", marker = \"o\", color = \"green\")\n",
    "plt.plot(neighbors, train_accuracy, label = \"Training Accuracy\", marker = \"o\", color = \"blue\")\n",
    "plt.legend(prop = {\"size\": 16})\n",
    "plt.xlabel(\"Number of Neighbors\", fontsize = 15)\n",
    "plt.ylabel(\"Accuracy\", fontsize = 15)\n",
    "plt.xticks(fontsize = 10)\n",
    "plt.yticks(fontsize = 10)\n",
    "plt.show()"
   ]
  },
  {
   "cell_type": "code",
   "execution_count": 122,
   "id": "1d0e8abc",
   "metadata": {},
   "outputs": [
    {
     "data": {
      "text/plain": [
       "4"
      ]
     },
     "execution_count": 122,
     "metadata": {},
     "output_type": "execute_result"
    }
   ],
   "source": [
    "# Numbers of independent features\n",
    "X_col = ml[Xnames]\n",
    "len(X_col.columns)"
   ]
  },
  {
   "cell_type": "code",
   "execution_count": 123,
   "id": "f6ff14cb",
   "metadata": {},
   "outputs": [],
   "source": [
    "# According to the graph and chose k=18 as our n_neighbors\n",
    "knn = KNeighborsClassifier(n_neighbors = 18)\n",
    "knn.fit(X_train, y_train)\n",
    "\n",
    "# Excute Recursive Feature Elimination\n",
    "from sklearn.feature_selection import RFE\n",
    "rfe = RFE(knn, n_features_to_select = 4)             \n",
    "rfe = rfe.fit(X_train, y_train)\n",
    "\n",
    "# Calculate accuracies\n",
    "train_accuracy = knn.score(X_train, y_train)\n",
    "test_accuracy = knn.score(X_test, y_test)"
   ]
  },
  {
   "cell_type": "code",
   "execution_count": 124,
   "id": "591b239b",
   "metadata": {},
   "outputs": [
    {
     "data": {
      "text/plain": [
       "[('stand_type', True, 1),\n",
       " ('long', True, 1),\n",
       " ('lat', True, 1),\n",
       " ('stand_numbers', True, 1)]"
      ]
     },
     "execution_count": 124,
     "metadata": {},
     "output_type": "execute_result"
    }
   ],
   "source": [
    "# tuples of (feature name, whether selected, ranking)\n",
    "list(zip(X_col.columns, rfe.support_, rfe.ranking_))"
   ]
  },
  {
   "cell_type": "code",
   "execution_count": 125,
   "id": "4fd6ff2b",
   "metadata": {},
   "outputs": [
    {
     "name": "stdout",
     "output_type": "stream",
     "text": [
      "0.8025751072961373 0.7350427350427351\n"
     ]
    }
   ],
   "source": [
    "# Display the accuracies\n",
    "print(train_accuracy, test_accuracy)"
   ]
  },
  {
   "cell_type": "code",
   "execution_count": 126,
   "id": "9230fd4b",
   "metadata": {},
   "outputs": [
    {
     "data": {
      "image/png": "[encoded data removed]",
      "text/plain": [
       "<Figure size 432x288 with 2 Axes>"
      ]
     },
     "metadata": {
      "needs_background": "light"
     },
     "output_type": "display_data"
    }
   ],
   "source": [
    "# Check confusion matrix\n",
    "from sklearn.metrics import confusion_matrix\n",
    "y_pred = knn.predict(X_test)\n",
    "cm = confusion_matrix(y_test, y_pred)\n",
    "sns.heatmap(cm, annot = True, cmap = \"Paired\");"
   ]
  },
  {
   "cell_type": "code",
   "execution_count": 127,
   "id": "0779dcb7",
   "metadata": {},
   "outputs": [
    {
     "name": "stdout",
     "output_type": "stream",
     "text": [
      "               precision    recall  f1-score   support\n",
      "\n",
      "      CENTRAL       0.75      0.67      0.71        91\n",
      "NORTH CENTRAL       1.00      0.30      0.46        20\n",
      "   NORTH WEST       0.00      0.00      0.00         4\n",
      "SOUTH CENTRAL       0.62      0.59      0.61        17\n",
      "   SOUTH EAST       0.73      0.93      0.82       102\n",
      "\n",
      "     accuracy                           0.74       234\n",
      "    macro avg       0.62      0.50      0.52       234\n",
      " weighted avg       0.74      0.74      0.71       234\n",
      "\n"
     ]
    }
   ],
   "source": [
    "# Show the classification report\n",
    "from sklearn.metrics import classification_report\n",
    "print(classification_report(y_test, y_pred))"
   ]
  },
  {
   "cell_type": "code",
   "execution_count": 128,
   "id": "1119bcc5",
   "metadata": {},
   "outputs": [
    {
     "name": "stdout",
     "output_type": "stream",
     "text": [
      "Accuracy without scaling by KNN model:  0.74\n"
     ]
    }
   ],
   "source": [
    "from sklearn import metrics\n",
    "print(\"Accuracy without scaling by KNN model: \", round(metrics.accuracy_score(y_test, y_pred), 2))"
   ]
  },
  {
   "cell_type": "markdown",
   "id": "0be72e96",
   "metadata": {},
   "source": [
    "- ***Use standardscaler and excute same procedures above***"
   ]
  },
  {
   "cell_type": "code",
   "execution_count": 129,
   "id": "dd17eeaa",
   "metadata": {},
   "outputs": [],
   "source": [
    "from sklearn.preprocessing import StandardScaler\n",
    "scaler = StandardScaler()\n",
    "X_scaled = scaler.fit_transform(X)"
   ]
  },
  {
   "cell_type": "code",
   "execution_count": 130,
   "id": "ea353b0c",
   "metadata": {},
   "outputs": [],
   "source": [
    "from sklearn.model_selection import train_test_split\n",
    "X1_train, X1_test, y1_train, y1_test = train_test_split(X_scaled, y, test_size = 0.25, random_state = 45)"
   ]
  },
  {
   "cell_type": "code",
   "execution_count": 131,
   "id": "df4fe444",
   "metadata": {},
   "outputs": [
    {
     "name": "stdout",
     "output_type": "stream",
     "text": [
      "[ 1  2  3  4  5  6  7  8  9 10 11 12 13 14 15 16 17 18 19] [0. 0. 0. 0. 0. 0. 0. 0. 0. 0. 0. 0. 0. 0. 0. 0. 0. 0. 0.] [0. 0. 0. 0. 0. 0. 0. 0. 0. 0. 0. 0. 0. 0. 0. 0. 0. 0. 0.]\n"
     ]
    }
   ],
   "source": [
    "from sklearn.neighbors import KNeighborsClassifier\n",
    "neighbors = np.arange(1, 20)                 \n",
    "train_accuracy = np.zeros(len(neighbors)) \n",
    "test_accuracy = np.zeros(len(neighbors))\n",
    "print(neighbors, train_accuracy, test_accuracy)"
   ]
  },
  {
   "cell_type": "code",
   "execution_count": 132,
   "id": "3abf0c4a",
   "metadata": {},
   "outputs": [
    {
     "name": "stdout",
     "output_type": "stream",
     "text": [
      "[ 1  2  3  4  5  6  7  8  9 10 11 12 13 14 15 16 17 18 19] [1.         0.96566524 0.96423462 0.96137339 0.96280401 0.95851216\n",
      " 0.95135908 0.94277539 0.94277539 0.93562232 0.94134478 0.93276109\n",
      " 0.93133047 0.93562232 0.92274678 0.92274678 0.9241774  0.91845494\n",
      " 0.91845494] [0.92735043 0.93589744 0.93162393 0.94871795 0.94444444 0.94444444\n",
      " 0.93589744 0.92735043 0.92307692 0.92307692 0.92735043 0.91880342\n",
      " 0.91452991 0.91025641 0.8974359  0.89316239 0.88034188 0.88461538\n",
      " 0.87179487]\n"
     ]
    }
   ],
   "source": [
    "for i,k in enumerate(neighbors):  \n",
    "    knn = KNeighborsClassifier(n_neighbors = k)\n",
    "    knn.fit(X1_train, y1_train)\n",
    "    train_accuracy[i] = knn.score(X1_train, y1_train)\n",
    "    test_accuracy[i] = knn.score(X1_test, y1_test)\n",
    "print(neighbors, train_accuracy, test_accuracy)"
   ]
  },
  {
   "cell_type": "code",
   "execution_count": 133,
   "id": "0fa7e725",
   "metadata": {},
   "outputs": [
    {
     "data": {
      "image/png": "[encoded data removed]",
      "text/plain": [
       "<Figure size 720x576 with 1 Axes>"
      ]
     },
     "metadata": {
      "needs_background": "light"
     },
     "output_type": "display_data"
    }
   ],
   "source": [
    "plt.figure(figsize = (10, 8))\n",
    "plt.title(\"KNN accuracy for K Numbers\", fontsize = 20)\n",
    "plt.plot(neighbors, test_accuracy, label = \"Testing Accuracy\", marker = \"o\", color = \"green\")\n",
    "plt.plot(neighbors, train_accuracy, label = \"Training Accuracy\", marker = \"o\", color = \"blue\")\n",
    "plt.legend(prop = {\"size\": 16})\n",
    "plt.xlabel(\"Number of Neighbors\", fontsize = 15)\n",
    "plt.ylabel(\"Accuracy\", fontsize = 15)\n",
    "plt.xticks(fontsize = 10)\n",
    "plt.yticks(fontsize = 10)\n",
    "plt.show()"
   ]
  },
  {
   "cell_type": "code",
   "execution_count": 134,
   "id": "3d56e1f2",
   "metadata": {},
   "outputs": [
    {
     "name": "stdout",
     "output_type": "stream",
     "text": [
      "0.9585121602288984 0.9444444444444444\n"
     ]
    }
   ],
   "source": [
    "# k=4/6 is our best options in this case\n",
    "knn = KNeighborsClassifier(n_neighbors = 6)\n",
    "knn.fit(X1_train, y1_train)\n",
    "train_accuracy = knn.score(X1_train, y1_train)\n",
    "test_accuracy = knn.score(X1_test, y1_test)\n",
    "print(train_accuracy, test_accuracy)"
   ]
  },
  {
   "cell_type": "code",
   "execution_count": 135,
   "id": "2e74c9cb",
   "metadata": {},
   "outputs": [
    {
     "data": {
      "image/png": "[encoded data removed]",
      "text/plain": [
       "<Figure size 432x288 with 2 Axes>"
      ]
     },
     "metadata": {
      "needs_background": "light"
     },
     "output_type": "display_data"
    }
   ],
   "source": [
    "from sklearn.metrics import confusion_matrix\n",
    "y1_pred = knn.predict(X1_test)\n",
    "cm1 = confusion_matrix(y1_test, y1_pred)\n",
    "sns.heatmap(cm1, annot = True, cmap = \"Paired\");"
   ]
  },
  {
   "cell_type": "code",
   "execution_count": 136,
   "id": "5fde2a78",
   "metadata": {},
   "outputs": [
    {
     "name": "stdout",
     "output_type": "stream",
     "text": [
      "               precision    recall  f1-score   support\n",
      "\n",
      "      CENTRAL       0.94      0.96      0.95        91\n",
      "NORTH CENTRAL       1.00      0.95      0.97        20\n",
      "   NORTH WEST       1.00      0.75      0.86         4\n",
      "SOUTH CENTRAL       0.88      0.88      0.88        17\n",
      "   SOUTH EAST       0.95      0.95      0.95       102\n",
      "\n",
      "     accuracy                           0.94       234\n",
      "    macro avg       0.95      0.90      0.92       234\n",
      " weighted avg       0.94      0.94      0.94       234\n",
      "\n"
     ]
    }
   ],
   "source": [
    "from sklearn.metrics import classification_report\n",
    "print(classification_report(y1_test, y1_pred))"
   ]
  },
  {
   "cell_type": "code",
   "execution_count": 137,
   "id": "3a4431c3",
   "metadata": {},
   "outputs": [
    {
     "name": "stdout",
     "output_type": "stream",
     "text": [
      "Accuracy using standardscale with KNN model:  0.94\n"
     ]
    }
   ],
   "source": [
    "from sklearn import metrics\n",
    "print(\"Accuracy using standardscale with KNN model: \", round(metrics.accuracy_score(y1_test, y1_pred), 2))"
   ]
  },
  {
   "cell_type": "markdown",
   "id": "772a2584",
   "metadata": {},
   "source": [
    "#### 3.2 Non-linear SVM"
   ]
  },
  {
   "cell_type": "code",
   "execution_count": 138,
   "id": "023457ca",
   "metadata": {},
   "outputs": [],
   "source": [
    "# Import model and libraries\n",
    "from sklearn.svm import SVC\n",
    "from sklearn import metrics\n",
    "from sklearn.metrics import confusion_matrix\n",
    "from sklearn.model_selection import KFold\n",
    "from sklearn.model_selection import cross_val_score\n",
    "from sklearn.model_selection import GridSearchCV\n",
    "from sklearn.preprocessing import scale"
   ]
  },
  {
   "cell_type": "markdown",
   "id": "5e636ffa",
   "metadata": {},
   "source": [
    "- ***Brief look without scaling***"
   ]
  },
  {
   "cell_type": "code",
   "execution_count": 139,
   "id": "c0f5e4f0",
   "metadata": {},
   "outputs": [],
   "source": [
    "# Import model and split data\n",
    "from sklearn.model_selection import train_test_split\n",
    "X2_train, X2_test, y2_train, y2_test = train_test_split(X, y, test_size = 0.25, random_state = 45)"
   ]
  },
  {
   "cell_type": "code",
   "execution_count": 140,
   "id": "a8f72bdf",
   "metadata": {},
   "outputs": [
    {
     "name": "stdout",
     "output_type": "stream",
     "text": [
      "Accuracy using rdf kernel without scaling:  0.44\n"
     ]
    }
   ],
   "source": [
    "# Create a svm model built on Gaussian Radial Basis Function (rdf) kernel\n",
    "svm = SVC(kernel = \"rbf\")\n",
    "\n",
    "# Train and test the data\n",
    "svm.fit(X2_train, y2_train)\n",
    "y2_pred = svm.predict(X2_test)\n",
    "\n",
    "# Check accuracy\n",
    "print(\"Accuracy using rdf kernel without scaling: \", round(metrics.accuracy_score(y2_test, y2_pred), 2))"
   ]
  },
  {
   "cell_type": "markdown",
   "id": "7d428f83",
   "metadata": {},
   "source": [
    "- ***The accuracy looks low. Now we changed to scaled data.***"
   ]
  },
  {
   "cell_type": "code",
   "execution_count": 141,
   "id": "f4e70d11",
   "metadata": {},
   "outputs": [],
   "source": [
    "from sklearn.model_selection import train_test_split\n",
    "X3_train, X3_test, y3_train, y3_test = train_test_split(X_scaled, y, test_size = 0.25, random_state = 45)"
   ]
  },
  {
   "cell_type": "code",
   "execution_count": 142,
   "id": "ab4747d3",
   "metadata": {},
   "outputs": [
    {
     "name": "stdout",
     "output_type": "stream",
     "text": [
      "Accuracy using rdf kernel after standardscaling:  0.92\n"
     ]
    }
   ],
   "source": [
    "svm = SVC(kernel = \"rbf\")\n",
    "svm.fit(X3_train, y3_train)\n",
    "y3_pred = svm.predict(X3_test)\n",
    "print(\"Accuracy using rdf kernel after standardscaling: \", round(metrics.accuracy_score(y3_test, y3_pred), 2))"
   ]
  },
  {
   "cell_type": "code",
   "execution_count": 143,
   "id": "d6380d20",
   "metadata": {},
   "outputs": [
    {
     "data": {
      "image/png": "[encoded data removed]",
      "text/plain": [
       "<Figure size 432x288 with 2 Axes>"
      ]
     },
     "metadata": {
      "needs_background": "light"
     },
     "output_type": "display_data"
    }
   ],
   "source": [
    "# Plot confusion matrix\n",
    "cm2 = confusion_matrix(y3_test, y3_pred)\n",
    "sns.heatmap(cm2, annot = True, cmap = \"Paired\");"
   ]
  },
  {
   "cell_type": "code",
   "execution_count": 144,
   "id": "5686e02f",
   "metadata": {},
   "outputs": [
    {
     "name": "stdout",
     "output_type": "stream",
     "text": [
      "               precision    recall  f1-score   support\n",
      "\n",
      "      CENTRAL       0.92      0.93      0.93        91\n",
      "NORTH CENTRAL       1.00      0.85      0.92        20\n",
      "   NORTH WEST       1.00      0.75      0.86         4\n",
      "SOUTH CENTRAL       0.80      0.94      0.86        17\n",
      "   SOUTH EAST       0.93      0.93      0.93       102\n",
      "\n",
      "     accuracy                           0.92       234\n",
      "    macro avg       0.93      0.88      0.90       234\n",
      " weighted avg       0.93      0.92      0.92       234\n",
      "\n"
     ]
    }
   ],
   "source": [
    "# Show classification report\n",
    "from sklearn.metrics import classification_report\n",
    "print(classification_report(y3_test, y3_pred))"
   ]
  },
  {
   "cell_type": "markdown",
   "id": "3c30d634",
   "metadata": {},
   "source": [
    "- Cross validate and find the best C and gamma numbers"
   ]
  },
  {
   "cell_type": "code",
   "execution_count": 145,
   "id": "9cc18392",
   "metadata": {},
   "outputs": [
    {
     "name": "stdout",
     "output_type": "stream",
     "text": [
      "Fitting 6 folds for each of 12 candidates, totalling 72 fits\n"
     ]
    },
    {
     "data": {
      "text/plain": [
       "GridSearchCV(cv=KFold(n_splits=6, random_state=45, shuffle=True),\n",
       "             estimator=SVC(),\n",
       "             param_grid=[{'C': [1, 10, 100, 1000],\n",
       "                          'gamma': [0.01, 0.001, 0.0001]}],\n",
       "             return_train_score=True, scoring='accuracy', verbose=1)"
      ]
     },
     "execution_count": 145,
     "metadata": {},
     "output_type": "execute_result"
    }
   ],
   "source": [
    "# Create a KFold object with 5 splits \n",
    "folds = KFold(n_splits = 6, shuffle = True, random_state = 45)\n",
    "\n",
    "# Specify range of hyperparameters\n",
    "# Set the parameters by cross-validation\n",
    "hyper_params = [{\"gamma\": [1e-2, 1e-3, 1e-4],\n",
    "                     \"C\": [1, 10, 100, 1000]}]\n",
    "\n",
    "\n",
    "# Specify model\n",
    "model = SVC(kernel = \"rbf\")\n",
    "\n",
    "# Set up GridSearchCV() and fit\n",
    "model_cv = GridSearchCV(estimator = model, \n",
    "                        param_grid = hyper_params, \n",
    "                        scoring = \"accuracy\", \n",
    "                        cv = folds, \n",
    "                        verbose = 1,\n",
    "                        return_train_score = True)\n",
    "model_cv.fit(X2_train, y2_train)"
   ]
  },
  {
   "cell_type": "code",
   "execution_count": 146,
   "id": "04ded018",
   "metadata": {},
   "outputs": [
    {
     "name": "stdout",
     "output_type": "stream",
     "text": [
      "<class 'pandas.core.frame.DataFrame'>\n",
      "RangeIndex: 12 entries, 0 to 11\n",
      "Data columns (total 24 columns):\n",
      " #   Column              Non-Null Count  Dtype  \n",
      "---  ------              --------------  -----  \n",
      " 0   mean_fit_time       12 non-null     float64\n",
      " 1   std_fit_time        12 non-null     float64\n",
      " 2   mean_score_time     12 non-null     float64\n",
      " 3   std_score_time      12 non-null     float64\n",
      " 4   param_C             12 non-null     object \n",
      " 5   param_gamma         12 non-null     object \n",
      " 6   params              12 non-null     object \n",
      " 7   split0_test_score   12 non-null     float64\n",
      " 8   split1_test_score   12 non-null     float64\n",
      " 9   split2_test_score   12 non-null     float64\n",
      " 10  split3_test_score   12 non-null     float64\n",
      " 11  split4_test_score   12 non-null     float64\n",
      " 12  split5_test_score   12 non-null     float64\n",
      " 13  mean_test_score     12 non-null     float64\n",
      " 14  std_test_score      12 non-null     float64\n",
      " 15  rank_test_score     12 non-null     int32  \n",
      " 16  split0_train_score  12 non-null     float64\n",
      " 17  split1_train_score  12 non-null     float64\n",
      " 18  split2_train_score  12 non-null     float64\n",
      " 19  split3_train_score  12 non-null     float64\n",
      " 20  split4_train_score  12 non-null     float64\n",
      " 21  split5_train_score  12 non-null     float64\n",
      " 22  mean_train_score    12 non-null     float64\n",
      " 23  std_train_score     12 non-null     float64\n",
      "dtypes: float64(20), int32(1), object(3)\n",
      "memory usage: 2.3+ KB\n"
     ]
    }
   ],
   "source": [
    "# cv results\n",
    "cv_results = pd.DataFrame(model_cv.cv_results_)\n",
    "cv_results.info()"
   ]
  },
  {
   "cell_type": "code",
   "execution_count": 147,
   "id": "053854b7",
   "metadata": {},
   "outputs": [
    {
     "data": {
      "text/html": [
       "<div>\n",
       "<style scoped>\n",
       "    .dataframe tbody tr th:only-of-type {\n",
       "        vertical-align: middle;\n",
       "    }\n",
       "\n",
       "    .dataframe tbody tr th {\n",
       "        vertical-align: top;\n",
       "    }\n",
       "\n",
       "    .dataframe thead th {\n",
       "        text-align: right;\n",
       "    }\n",
       "</style>\n",
       "<table border=\"1\" class=\"dataframe\">\n",
       "  <thead>\n",
       "    <tr style=\"text-align: right;\">\n",
       "      <th></th>\n",
       "      <th>mean_fit_time</th>\n",
       "      <th>std_fit_time</th>\n",
       "      <th>mean_score_time</th>\n",
       "      <th>std_score_time</th>\n",
       "      <th>param_C</th>\n",
       "      <th>param_gamma</th>\n",
       "      <th>params</th>\n",
       "      <th>split0_test_score</th>\n",
       "      <th>split1_test_score</th>\n",
       "      <th>split2_test_score</th>\n",
       "      <th>...</th>\n",
       "      <th>std_test_score</th>\n",
       "      <th>rank_test_score</th>\n",
       "      <th>split0_train_score</th>\n",
       "      <th>split1_train_score</th>\n",
       "      <th>split2_train_score</th>\n",
       "      <th>split3_train_score</th>\n",
       "      <th>split4_train_score</th>\n",
       "      <th>split5_train_score</th>\n",
       "      <th>mean_train_score</th>\n",
       "      <th>std_train_score</th>\n",
       "    </tr>\n",
       "  </thead>\n",
       "  <tbody>\n",
       "    <tr>\n",
       "      <th>0</th>\n",
       "      <td>0.023004</td>\n",
       "      <td>0.006410</td>\n",
       "      <td>0.010417</td>\n",
       "      <td>0.007366</td>\n",
       "      <td>1</td>\n",
       "      <td>0.01</td>\n",
       "      <td>{'C': 1, 'gamma': 0.01}</td>\n",
       "      <td>0.57265</td>\n",
       "      <td>0.418803</td>\n",
       "      <td>0.504274</td>\n",
       "      <td>...</td>\n",
       "      <td>0.048335</td>\n",
       "      <td>5</td>\n",
       "      <td>0.465636</td>\n",
       "      <td>0.493127</td>\n",
       "      <td>0.479381</td>\n",
       "      <td>0.485420</td>\n",
       "      <td>0.488851</td>\n",
       "      <td>0.488851</td>\n",
       "      <td>0.483544</td>\n",
       "      <td>0.009034</td>\n",
       "    </tr>\n",
       "    <tr>\n",
       "      <th>1</th>\n",
       "      <td>0.018234</td>\n",
       "      <td>0.005820</td>\n",
       "      <td>0.012589</td>\n",
       "      <td>0.009291</td>\n",
       "      <td>1</td>\n",
       "      <td>0.001</td>\n",
       "      <td>{'C': 1, 'gamma': 0.001}</td>\n",
       "      <td>0.57265</td>\n",
       "      <td>0.427350</td>\n",
       "      <td>0.495726</td>\n",
       "      <td>...</td>\n",
       "      <td>0.046857</td>\n",
       "      <td>6</td>\n",
       "      <td>0.463918</td>\n",
       "      <td>0.493127</td>\n",
       "      <td>0.477663</td>\n",
       "      <td>0.485420</td>\n",
       "      <td>0.487136</td>\n",
       "      <td>0.488851</td>\n",
       "      <td>0.482686</td>\n",
       "      <td>0.009590</td>\n",
       "    </tr>\n",
       "    <tr>\n",
       "      <th>2</th>\n",
       "      <td>0.022843</td>\n",
       "      <td>0.006442</td>\n",
       "      <td>0.006709</td>\n",
       "      <td>0.007063</td>\n",
       "      <td>1</td>\n",
       "      <td>0.0001</td>\n",
       "      <td>{'C': 1, 'gamma': 0.0001}</td>\n",
       "      <td>0.57265</td>\n",
       "      <td>0.427350</td>\n",
       "      <td>0.495726</td>\n",
       "      <td>...</td>\n",
       "      <td>0.046857</td>\n",
       "      <td>6</td>\n",
       "      <td>0.462199</td>\n",
       "      <td>0.489691</td>\n",
       "      <td>0.477663</td>\n",
       "      <td>0.481990</td>\n",
       "      <td>0.487136</td>\n",
       "      <td>0.485420</td>\n",
       "      <td>0.480683</td>\n",
       "      <td>0.009108</td>\n",
       "    </tr>\n",
       "    <tr>\n",
       "      <th>3</th>\n",
       "      <td>0.051500</td>\n",
       "      <td>0.011239</td>\n",
       "      <td>0.014855</td>\n",
       "      <td>0.001726</td>\n",
       "      <td>10</td>\n",
       "      <td>0.01</td>\n",
       "      <td>{'C': 10, 'gamma': 0.01}</td>\n",
       "      <td>0.57265</td>\n",
       "      <td>0.418803</td>\n",
       "      <td>0.495726</td>\n",
       "      <td>...</td>\n",
       "      <td>0.048725</td>\n",
       "      <td>11</td>\n",
       "      <td>0.465636</td>\n",
       "      <td>0.493127</td>\n",
       "      <td>0.479381</td>\n",
       "      <td>0.488851</td>\n",
       "      <td>0.490566</td>\n",
       "      <td>0.488851</td>\n",
       "      <td>0.484402</td>\n",
       "      <td>0.009408</td>\n",
       "    </tr>\n",
       "    <tr>\n",
       "      <th>4</th>\n",
       "      <td>0.033422</td>\n",
       "      <td>0.011168</td>\n",
       "      <td>0.018230</td>\n",
       "      <td>0.005820</td>\n",
       "      <td>10</td>\n",
       "      <td>0.001</td>\n",
       "      <td>{'C': 10, 'gamma': 0.001}</td>\n",
       "      <td>0.57265</td>\n",
       "      <td>0.427350</td>\n",
       "      <td>0.504274</td>\n",
       "      <td>...</td>\n",
       "      <td>0.046587</td>\n",
       "      <td>2</td>\n",
       "      <td>0.465636</td>\n",
       "      <td>0.493127</td>\n",
       "      <td>0.479381</td>\n",
       "      <td>0.485420</td>\n",
       "      <td>0.488851</td>\n",
       "      <td>0.488851</td>\n",
       "      <td>0.483544</td>\n",
       "      <td>0.009034</td>\n",
       "    </tr>\n",
       "  </tbody>\n",
       "</table>\n",
       "<p>5 rows × 24 columns</p>\n",
       "</div>"
      ],
      "text/plain": [
       "   mean_fit_time  std_fit_time  mean_score_time  std_score_time param_C  \\\n",
       "0       0.023004      0.006410         0.010417        0.007366       1   \n",
       "1       0.018234      0.005820         0.012589        0.009291       1   \n",
       "2       0.022843      0.006442         0.006709        0.007063       1   \n",
       "3       0.051500      0.011239         0.014855        0.001726      10   \n",
       "4       0.033422      0.011168         0.018230        0.005820      10   \n",
       "\n",
       "  param_gamma                     params  split0_test_score  \\\n",
       "0        0.01    {'C': 1, 'gamma': 0.01}            0.57265   \n",
       "1       0.001   {'C': 1, 'gamma': 0.001}            0.57265   \n",
       "2      0.0001  {'C': 1, 'gamma': 0.0001}            0.57265   \n",
       "3        0.01   {'C': 10, 'gamma': 0.01}            0.57265   \n",
       "4       0.001  {'C': 10, 'gamma': 0.001}            0.57265   \n",
       "\n",
       "   split1_test_score  split2_test_score  ...  std_test_score  rank_test_score  \\\n",
       "0           0.418803           0.504274  ...        0.048335                5   \n",
       "1           0.427350           0.495726  ...        0.046857                6   \n",
       "2           0.427350           0.495726  ...        0.046857                6   \n",
       "3           0.418803           0.495726  ...        0.048725               11   \n",
       "4           0.427350           0.504274  ...        0.046587                2   \n",
       "\n",
       "   split0_train_score  split1_train_score  split2_train_score  \\\n",
       "0            0.465636            0.493127            0.479381   \n",
       "1            0.463918            0.493127            0.477663   \n",
       "2            0.462199            0.489691            0.477663   \n",
       "3            0.465636            0.493127            0.479381   \n",
       "4            0.465636            0.493127            0.479381   \n",
       "\n",
       "   split3_train_score  split4_train_score  split5_train_score  \\\n",
       "0            0.485420            0.488851            0.488851   \n",
       "1            0.485420            0.487136            0.488851   \n",
       "2            0.481990            0.487136            0.485420   \n",
       "3            0.488851            0.490566            0.488851   \n",
       "4            0.485420            0.488851            0.488851   \n",
       "\n",
       "   mean_train_score  std_train_score  \n",
       "0          0.483544         0.009034  \n",
       "1          0.482686         0.009590  \n",
       "2          0.480683         0.009108  \n",
       "3          0.484402         0.009408  \n",
       "4          0.483544         0.009034  \n",
       "\n",
       "[5 rows x 24 columns]"
      ]
     },
     "execution_count": 147,
     "metadata": {},
     "output_type": "execute_result"
    }
   ],
   "source": [
    "cv_results.head()"
   ]
  },
  {
   "cell_type": "code",
   "execution_count": 148,
   "id": "c44aa652",
   "metadata": {},
   "outputs": [
    {
     "name": "stdout",
     "output_type": "stream",
     "text": [
      "The best test score is 0.6751645544748993 corresponding to hyperparameters {'C': 1000, 'gamma': 0.01}\n"
     ]
    }
   ],
   "source": [
    "# Print the optimal accuracy score and hyperparameters\n",
    "best_score = model_cv.best_score_\n",
    "best_hyperparams = model_cv.best_params_\n",
    "\n",
    "print(\"The best test score is {0} corresponding to hyperparameters {1}\".format(best_score, best_hyperparams))"
   ]
  },
  {
   "cell_type": "code",
   "execution_count": 149,
   "id": "ce472c6d",
   "metadata": {},
   "outputs": [
    {
     "name": "stdout",
     "output_type": "stream",
     "text": [
      "Accuracy using rbf kernel with the best hyperparameters:  0.94\n"
     ]
    }
   ],
   "source": [
    "# Use the best hyperparameter to test\n",
    "from sklearn.model_selection import train_test_split\n",
    "X4_train, X4_test, y4_train, y4_test = train_test_split(X_scaled, y, test_size = 0.25, random_state = 45)\n",
    "\n",
    "svm1 = SVC(kernel = \"rbf\", C = 1000, gamma = 0.01)\n",
    "svm1.fit(X4_train, y4_train)\n",
    "y4_pred = svm1.predict(X4_test)\n",
    "\n",
    "# Display the accuracy\n",
    "print(\"Accuracy using rbf kernel with the best hyperparameters: \", round(metrics.accuracy_score(y4_test, y4_pred), 2))"
   ]
  },
  {
   "cell_type": "code",
   "execution_count": 150,
   "id": "a5a6decd",
   "metadata": {},
   "outputs": [
    {
     "name": "stdout",
     "output_type": "stream",
     "text": [
      "               precision    recall  f1-score   support\n",
      "\n",
      "      CENTRAL       0.96      0.95      0.95        91\n",
      "NORTH CENTRAL       1.00      0.95      0.97        20\n",
      "   NORTH WEST       1.00      0.50      0.67         4\n",
      "SOUTH CENTRAL       0.80      0.94      0.86        17\n",
      "   SOUTH EAST       0.94      0.95      0.95       102\n",
      "\n",
      "     accuracy                           0.94       234\n",
      "    macro avg       0.94      0.86      0.88       234\n",
      " weighted avg       0.94      0.94      0.94       234\n",
      "\n"
     ]
    }
   ],
   "source": [
    "print(classification_report(y4_test, y4_pred))"
   ]
  },
  {
   "cell_type": "markdown",
   "id": "f5adc126",
   "metadata": {},
   "source": [
    "- ***Brief look using sigmoid kernel***"
   ]
  },
  {
   "cell_type": "code",
   "execution_count": 151,
   "id": "6313fb38",
   "metadata": {},
   "outputs": [
    {
     "name": "stdout",
     "output_type": "stream",
     "text": [
      "Accuracy using sigmoid kernel:  0.94\n"
     ]
    }
   ],
   "source": [
    "from sklearn.model_selection import train_test_split\n",
    "X5_train, X5_test, y5_train, y5_test = train_test_split(X_scaled, y, test_size = 0.25, random_state = 45)\n",
    "\n",
    "svm2 = SVC(kernel = \"sigmoid\", C = 1000, gamma = 0.01)\n",
    "svm2.fit(X5_train, y5_train)\n",
    "y5_pred = svm1.predict(X5_test)\n",
    "\n",
    "# Display the accuracy\n",
    "print(\"Accuracy using sigmoid kernel: \", round(metrics.accuracy_score(y5_test, y5_pred), 2))"
   ]
  },
  {
   "cell_type": "markdown",
   "id": "793e13da",
   "metadata": {},
   "source": [
    "### References\n",
    "\n",
    "- <p> https://colorbrewer2.org/#type=qualitative&scheme=Paired&n=7 <p>\n",
    "- <p> https://docs.scipy.org/doc/scipy/reference/generated/scipy.stats.poisson.html?highlight=poisson#scipy.stats.poisson <p>\n",
    "- <p> https://fontawesome.com/icons/bicycle?s=solid&f=classic <p>\n",
    "- <p> https://github.com/PacktPublishing/Machine-Learning-with-Real-World-Projects <p>\n",
    "- <p> https://geopandas.org/en/stable/index.html <p>\n",
    "- <p> https://machinelearningmastery.com/knn-imputation-for-missing-values-in-machine-learning/ <p>\n",
    "- <p> https://matplotlib.org/stable/index.html <p>\n",
    "- <p> https://pandas.pydata.org/docs/index.html <p>\n",
    "- <p> https://pyproj4.github.io/pyproj/stable/index.html <p>\n",
    "- <p> https://python-visualization.github.io/folium/quickstart.html#Getting-Started <p>\n",
    "- <p> https://scikit-learn.org/stable/ <p>\n",
    "- <p> https://stackoverflow.com/questions/71287607/how-to-make-a-normal-distribution-graph-from-data-frame-in-python <p>\n",
    "- <p> https://towardsdatascience.com/reverse-geocoding-in-python-a915acf29eb6 <p>\n",
    "- <p> https://www.datacamp.com/community/tutorials/introduction-machine-learning-python <p>\n",
    "- <p> https://www.kaggle.com/code/dabaker/fancy-folium <p>\n",
    "- <p> Peng, J. et al. (2021) ‘DataPrep.EDA: Task-Centric Exploratory Data Analysis for Statistical Modeling in Python’, in Proceedings of the 2021 International Conference on Management of Data. New York, NY, USA: Association for Computing Machinery (SIGMOD ’21), pp. 2271–2280. Available at: https://doi.org/10.1145/3448016.3457330. <p>"
   ]
  },
  {
   "cell_type": "code",
   "execution_count": null,
   "id": "e05f14ba",
   "metadata": {},
   "outputs": [],
   "source": []
  }
 ],
 "metadata": {
  "kernelspec": {
   "display_name": "Python 3 (ipykernel)",
   "language": "python",
   "name": "python3"
  },
  "language_info": {
   "codemirror_mode": {
    "name": "ipython",
    "version": 3
   },
   "file_extension": ".py",
   "mimetype": "text/x-python",
   "name": "python",
   "nbconvert_exporter": "python",
   "pygments_lexer": "ipython3",
   "version": "3.11.4"
  }
 },
 "nbformat": 4,
 "nbformat_minor": 5
}
